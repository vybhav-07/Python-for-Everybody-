{
 "cells": [
  {
   "cell_type": "markdown",
   "metadata": {},
   "source": [
    "# COURSERA - PYTHON FOR EVERYBODY (ASSIGNMENTS)"
   ]
  },
  {
   "cell_type": "markdown",
   "metadata": {},
   "source": [
    "# 1 - Getting Started with Python"
   ]
  },
  {
   "cell_type": "code",
   "execution_count": 1,
   "metadata": {},
   "outputs": [
    {
     "name": "stdout",
     "output_type": "stream",
     "text": [
      "Enter Hours:45\n",
      "Enter Rate per hour:10.50\n",
      "498.75\n"
     ]
    }
   ],
   "source": [
    "''' 3.1 Write a program to prompt the user for hours and rate per hour using input to compute gross pay. Pay the hourly rate for\n",
    "the hours up to 40 and 1.5 times the hourly rate for all hours worked above 40 hours. Use 45 hours and a rate of 10.50 per hour \n",
    "to test the program (the pay should be 498.75). You should use input to read a string and float() to convert the string to a \n",
    "number. Do not worry about error checking the user input - assume the user types numbers properly. '''\n",
    "\n",
    "hrs = float(input(\"Enter Hours:\"))\n",
    "rateperhour = float(input(\"Enter Rate per hour:\"))\n",
    "pay1 = hrs * rateperhour\n",
    "pay2 = 40*rateperhour + (hrs-40)*1.5*rateperhour\n",
    "if hrs<=40:\n",
    "    print(pay1) \n",
    "else:\n",
    "    print(pay2)"
   ]
  },
  {
   "cell_type": "code",
   "execution_count": 2,
   "metadata": {},
   "outputs": [
    {
     "name": "stdout",
     "output_type": "stream",
     "text": [
      "Enter Score between 0.0 and 1.0\n",
      ": 0.85\n",
      "B\n"
     ]
    }
   ],
   "source": [
    "''' 3.3 Write a program to prompt for a score between 0.0 and 1.0. If the score is out of range, print an error. \n",
    "If the score is between 0.0 and 1.0, print a grade using the following table:\n",
    "Score Grade\n",
    ">= 0.9 A\n",
    ">= 0.8 B\n",
    ">= 0.7 C\n",
    ">= 0.6 D\n",
    "< 0.6 F\n",
    "If the user enters a value out of range, print a suitable error message and exit. For the test, enter a score of 0.85. '''\n",
    "\n",
    "score = float(input(\"Enter Score between 0.0 and 1.0\\n: \"))\n",
    "if score<0.0 or score>1.0 :\n",
    "    print('Error! Number is not in range')\n",
    "elif score>= 0.9:\n",
    "    print('A')\n",
    "elif score>= 0.8:\n",
    "    print('B')\n",
    "elif score>= 0.7:\n",
    "    print('C')\n",
    "elif score>= 0.6:\n",
    "    print('D')\n",
    "elif score<0.6:\n",
    "    print('F')"
   ]
  },
  {
   "cell_type": "code",
   "execution_count": 3,
   "metadata": {},
   "outputs": [
    {
     "name": "stdout",
     "output_type": "stream",
     "text": [
      "Enter Hours:45\n",
      "Enter Rate per hour:10.5\n",
      "498.75\n"
     ]
    }
   ],
   "source": [
    "''' 4.6 Write a program to prompt the user for hours and rate per hour using input to compute gross pay. Pay should be the \n",
    "normal rate for hours up to 40 and time-and-a-half for the hourly rate for all hours worked above 40 hours. Put the logic to \n",
    "do the computation of pay in a function called computepay() and use the function to do the computation. The function should \n",
    "return a value. Use 45 hours and a rate of 10.50 per hour to test the program (the pay should be 498.75). You should use input \n",
    "to read a string and float() to convert the string to a number. Do not worry about error checking the user input unless you \n",
    "want to - you can assume the user types numbers properly. Do not name your variable sum or use the sum() function.'''\n",
    "\n",
    "h = float(input(\"Enter Hours:\"))\n",
    "r = float(input(\"Enter Rate per hour:\"))\n",
    "\n",
    "def computepay(h,r):   \n",
    "    if h<=40:\n",
    "        p = h*r\n",
    "        return p\n",
    "    else:\n",
    "        p = 40*r + (h-40)*1.5*r\n",
    "        return p\n",
    "\n",
    "p = computepay(h,r)\n",
    "print(p)"
   ]
  },
  {
   "cell_type": "code",
   "execution_count": 1,
   "metadata": {},
   "outputs": [
    {
     "name": "stdout",
     "output_type": "stream",
     "text": [
      "Enter a number: 7\n",
      "Enter a number: 2\n",
      "Enter a number: bob\n",
      "Invalid input\n",
      "Enter a number: 10\n",
      "Enter a number: 4\n",
      "Enter a number: done\n",
      "Maximum is 10\n",
      "Minimum is 2\n"
     ]
    }
   ],
   "source": [
    "''' 5.2 Write a program that repeatedly prompts a user for integer numbers until the user enters 'done'. Once 'done' is entered,\n",
    "print out the largest and smallest of the numbers. If the user enters anything other than a valid number catch it with a \n",
    "try/except and put out an appropriate message and ignore the number. Enter 7, 2, bob, 10, and 4 and match the output below.\n",
    "Invalid input\n",
    "Maximum is 10\n",
    "Minimum is 2 '''\n",
    "\n",
    "largest = None\n",
    "smallest = None\n",
    "\n",
    "while True:\n",
    "    try:\n",
    "        num = input(\"Enter a number: \")\n",
    "        if num == 'done':\n",
    "            break\n",
    "        n = int(num)\n",
    "        if largest is None or n > largest:\n",
    "            largest = n\n",
    "        elif smallest is None or n < smallest:\n",
    "            smallest = n\n",
    "\n",
    "    except:\n",
    "        print(\"Invalid input\")\n",
    "        continue\n",
    "\n",
    "print(\"Maximum is\", largest)\n",
    "print(\"Minimum is\", smallest)"
   ]
  },
  {
   "cell_type": "markdown",
   "metadata": {},
   "source": [
    "# 2 - Python Data Structures"
   ]
  },
  {
   "cell_type": "code",
   "execution_count": 2,
   "metadata": {},
   "outputs": [
    {
     "name": "stdout",
     "output_type": "stream",
     "text": [
      "0.8475\n"
     ]
    }
   ],
   "source": [
    "''' 6.5 Write code using find() and string slicing (see section 6.10) to extract the number at the end of the line below. \n",
    "Convert the extracted value to a floating point number and print it out.'''\n",
    "\n",
    "text = \"X-DSPAM-Confidence:    0.8475\";\n",
    "t1 = text.find(' ')\n",
    "t2 = text[t1:]\n",
    "t3 = float(t2.strip())\n",
    "print(t3)"
   ]
  },
  {
   "cell_type": "code",
   "execution_count": 3,
   "metadata": {},
   "outputs": [
    {
     "name": "stdout",
     "output_type": "stream",
     "text": [
      "Enter file name: words.txt\n",
      "WRITING PROGRAMS OR PROGRAMMING IS A VERY CREATIVE\n",
      "AND REWARDING ACTIVITY  YOU CAN WRITE PROGRAMS FOR\n",
      "MANY REASONS RANGING FROM MAKING YOUR LIVING TO SOLVING\n",
      "A DIFFICULT DATA ANALYSIS PROBLEM TO HAVING FUN TO HELPING\n",
      "SOMEONE ELSE SOLVE A PROBLEM  THIS BOOK ASSUMES THAT\n",
      "{\\EM EVERYONE} NEEDS TO KNOW HOW TO PROGRAM AND THAT ONCE\n",
      "YOU KNOW HOW TO PROGRAM, YOU WILL FIGURE OUT WHAT YOU WANT\n",
      "TO DO WITH YOUR NEWFOUND SKILLS\n",
      "\n",
      "WE ARE SURROUNDED IN OUR DAILY LIVES WITH COMPUTERS RANGING\n",
      "FROM LAPTOPS TO CELL PHONES  WE CAN THINK OF THESE COMPUTERS\n",
      "AS OUR PERSONAL ASSISTANTS WHO CAN TAKE CARE OF MANY THINGS\n",
      "ON OUR BEHALF  THE HARDWARE IN OUR CURRENT-DAY COMPUTERS\n",
      "IS ESSENTIALLY BUILT TO CONTINUOUSLY ASK US THE QUESTION\n",
      "WHAT WOULD YOU LIKE ME TO DO NEXT\n",
      "\n",
      "OUR COMPUTERS ARE FAST AND HAVE VASTS AMOUNTS OF MEMORY AND\n",
      "COULD BE VERY HELPFUL TO US IF WE ONLY KNEW THE LANGUAGE TO\n",
      "SPEAK TO EXPLAIN TO THE COMPUTER WHAT WE WOULD LIKE IT TO\n",
      "DO NEXT IF WE KNEW THIS LANGUAGE WE COULD TELL THE\n",
      "COMPUTER TO DO TASKS ON OUR BEHALF THAT WERE REPTITIVE\n",
      "INTERESTINGLY, THE KINDS OF THINGS COMPUTERS CAN DO BEST\n",
      "ARE OFTEN THE KINDS OF THINGS THAT WE HUMANS FIND BORING\n",
      "AND MIND-NUMBING\n"
     ]
    }
   ],
   "source": [
    "''' 7.1 Write a program that prompts for a file name, then opens that file and reads through the file, and print the contents \n",
    "of the file in upper case. Use the file words.txt to produce the output below.\n",
    "You can download the sample data at http://www.py4e.com/code3/words.txt '''\n",
    "\n",
    "# Use words.txt as the file name\n",
    "fname = input(\"Enter file name: \")\n",
    "fh = open(fname)\n",
    "for lines in fh:\n",
    "    lines = lines.rstrip()\n",
    "    lines = lines.upper()\n",
    "    print(lines)"
   ]
  },
  {
   "cell_type": "code",
   "execution_count": 4,
   "metadata": {},
   "outputs": [
    {
     "name": "stdout",
     "output_type": "stream",
     "text": [
      "Enter file name: mbox-short.txt\n",
      "Average spam confidence: 0.7507185185185187\n"
     ]
    }
   ],
   "source": [
    "''' 7.2 Write a program that prompts for a file name, then opens that file and reads through the file, \n",
    "looking for lines of the form:\n",
    "X-DSPAM-Confidence:    0.8475\n",
    "Count these lines and extract the floating point values from each of the lines and compute the averageof those values and \n",
    "produce an output as shown below. \n",
    "\"Average spam confidence: 0.7507185185185187\"\n",
    "Do not use the sum() function or a variable named sum in your solution.\n",
    "You can download the sample data at http://www.py4e.com/code3/mbox-short.txt when you are testing below enter mbox-short.txt as \n",
    "the file name. '''\n",
    "\n",
    "# Use the file name mbox-short.txt as the file name\n",
    "fname = input(\"Enter file name: \")\n",
    "fh = open(fname)\n",
    "count = 0\n",
    "total = 0\n",
    "for line in fh:\n",
    "    line = line.rstrip()\n",
    "    if not line.startswith(\"X-DSPAM-Confidence:\") : continue\n",
    "    l1 = line.find(\"0\")\n",
    "    l2 = float(line[l1:])\n",
    "    count = count+1 \n",
    "    total = total + l2\n",
    "    avg = total/count\n",
    "\n",
    "print(f'Average spam confidence: {avg}')"
   ]
  },
  {
   "cell_type": "code",
   "execution_count": 5,
   "metadata": {},
   "outputs": [
    {
     "name": "stdout",
     "output_type": "stream",
     "text": [
      "Enter file name: romeo.txt\n",
      "['Arise', 'But', 'It', 'Juliet', 'Who', 'already', 'and', 'breaks', 'east', 'envious', 'fair', 'grief', 'is', 'kill', 'light', 'moon', 'pale', 'sick', 'soft', 'sun', 'the', 'through', 'what', 'window', 'with', 'yonder']\n"
     ]
    }
   ],
   "source": [
    "''' 8.4 Open the file romeo.txt and read it line by line. For each line, split the line into a list of words using the split() \n",
    "method. The program should build a list of words. For each word on each line check to see if the word is already in the list and\n",
    "if not append it to the list. When the program completes, sort and print the resulting words in alphabetical order.\n",
    "You can download the sample data at http://www.py4e.com/code3/romeo.txt'''\n",
    "\n",
    "# But soft what light through yonder window breaks\n",
    "# It is the east and Juliet is the sun\n",
    "# Arise fair sun and kill the envious moon\n",
    "# Who is already sick and pale with grief \n",
    "\n",
    "fname = input(\"Enter file name: \")\n",
    "fh = open(fname)\n",
    "lst = list() \n",
    "for line in fh:\n",
    "    line = line.rstrip().split()\n",
    "    for word in line:\n",
    "        if word not in lst:\n",
    "            lst.append(word)\n",
    "            \n",
    "lst.sort()\n",
    "print(lst)"
   ]
  },
  {
   "cell_type": "code",
   "execution_count": 6,
   "metadata": {},
   "outputs": [
    {
     "name": "stdout",
     "output_type": "stream",
     "text": [
      "Enter file name: mbox-short.txt\n",
      "stephen.marquard@uct.ac.za\n",
      "louis@media.berkeley.edu\n",
      "zqian@umich.edu\n",
      "rjlowe@iupui.edu\n",
      "zqian@umich.edu\n",
      "rjlowe@iupui.edu\n",
      "cwen@iupui.edu\n",
      "cwen@iupui.edu\n",
      "gsilver@umich.edu\n",
      "gsilver@umich.edu\n",
      "zqian@umich.edu\n",
      "gsilver@umich.edu\n",
      "wagnermr@iupui.edu\n",
      "zqian@umich.edu\n",
      "antranig@caret.cam.ac.uk\n",
      "gopal.ramasammycook@gmail.com\n",
      "david.horwitz@uct.ac.za\n",
      "david.horwitz@uct.ac.za\n",
      "david.horwitz@uct.ac.za\n",
      "david.horwitz@uct.ac.za\n",
      "stephen.marquard@uct.ac.za\n",
      "louis@media.berkeley.edu\n",
      "louis@media.berkeley.edu\n",
      "ray@media.berkeley.edu\n",
      "cwen@iupui.edu\n",
      "cwen@iupui.edu\n",
      "cwen@iupui.edu\n",
      "There were 27 lines in the file with From as the first word\n"
     ]
    }
   ],
   "source": [
    "''' 8.5 Open the file mbox-short.txt and read it line by line. When you find a line that starts with 'From ' like the following \n",
    "line:\n",
    "\n",
    "From stephen.marquard@uct.ac.za Sat Jan  5 09:14:16 2008\n",
    "\n",
    "You will parse the From line using split() and print out the second word in the line (i.e. the entire address of the person who \n",
    "sent the message). Then print out a count at the end.\n",
    "Hint: make sure not to include the lines that start with 'From:'. Also look at the last line of the \n",
    "sample output to see how to print the count.\n",
    "\n",
    "You can download the sample data at http://www.py4e.com/code3/mbox-short.txt '''\n",
    "\n",
    "fname = input(\"Enter file name: \")\n",
    "fh = open(fname)\n",
    "count = 0\n",
    "for line in fh:\n",
    "    if line.startswith('From '):\n",
    "        line = line.split()\n",
    "        line = line[1]\n",
    "        count += 1\n",
    "        print(line)   \n",
    "        \n",
    "print(\"There were\", count, \"lines in the file with From as the first word\")"
   ]
  },
  {
   "cell_type": "code",
   "execution_count": 7,
   "metadata": {},
   "outputs": [
    {
     "name": "stdout",
     "output_type": "stream",
     "text": [
      "Enter file:mbox-short.txt\n",
      "cwen@iupui.edu 5\n"
     ]
    }
   ],
   "source": [
    "''' 9.4 Write a program to read through the mbox-short.txt and figure out who has sent the greatest number of mail messages. \n",
    "The program looks for 'From ' lines and takes the second word of those lines as the person who sent the mail. The program \n",
    "creates a Python dictionary that maps the sender's mail address to a count of the number of times they appear in the file. \n",
    "After the dictionary is produced, the program reads through the dictionary using a maximum loop to find the most prolific \n",
    "committer. \n",
    "Required Output: cwen@iupui.edu 5'''\n",
    "\n",
    "name = input(\"Enter file:\")\n",
    "handle = open(name)\n",
    "counts = dict()\n",
    "for line in handle:\n",
    "    if line.startswith('From '):\n",
    "        line = line.split()\n",
    "        line = line[1]\n",
    "        counts[line] = counts.get(line, 0) + 1\n",
    "        \n",
    "        mailaddress = None\n",
    "        repetition = None\n",
    "        for mail,rep in counts.items():\n",
    "            if repetition is None or rep > repetition:\n",
    "                mailaddress = mail\n",
    "                repetition = rep\n",
    "                \n",
    "print(mailaddress, repetition)"
   ]
  },
  {
   "cell_type": "code",
   "execution_count": 8,
   "metadata": {},
   "outputs": [
    {
     "name": "stdout",
     "output_type": "stream",
     "text": [
      "Enter file:mbox-short.txt\n",
      "04 3\n",
      "06 1\n",
      "07 1\n",
      "09 2\n",
      "10 3\n",
      "11 6\n",
      "14 1\n",
      "15 2\n",
      "16 4\n",
      "17 2\n",
      "18 1\n",
      "19 1\n"
     ]
    }
   ],
   "source": [
    "''' 10.2 Write a program to read through the mbox-short.txt and figure out the distribution by hour of the day for each of \n",
    "the messages. You can pull the hour out from the 'From ' line by finding the time and then splitting the string a second time \n",
    "using a colon.\n",
    "From stephen.marquard@uct.ac.za Sat Jan  5 09:14:16 2008\n",
    "Once you have accumulated the counts for each hour, print out the counts, sorted by hour as shown below.'''\n",
    "\n",
    "name = input(\"Enter file:\")\n",
    "handle = open(name)\n",
    "counts = dict()\n",
    "\n",
    "for line in handle:\n",
    "    if line.startswith('From '):\n",
    "        line = line.split()[5]\n",
    "        l1 = line.find(':')    \n",
    "        l2 = line[:l1]\n",
    "        counts[l2] = counts.get(l2, 0) + 1\n",
    "        \n",
    "count_lst = sorted([(h,c) for h,c in counts.items()])\n",
    "for (h,c) in count_lst:\n",
    "    print(h, c)"
   ]
  },
  {
   "cell_type": "markdown",
   "metadata": {},
   "source": [
    "# 3 - Using Python to Access Web Data"
   ]
  },
  {
   "cell_type": "code",
   "execution_count": 9,
   "metadata": {},
   "outputs": [
    {
     "name": "stdout",
     "output_type": "stream",
     "text": [
      "347995\n"
     ]
    }
   ],
   "source": [
    "''' Extracting Data With Regular Expressions:\n",
    "Finding Numbers in a Haystack\n",
    "In this assignment you will read through and parse a file with text and numbers. You will extract all the numbers in the file \n",
    "and compute the sum of the numbers.'''\n",
    "\n",
    "import re\n",
    "\n",
    "handle = open ('re_assignment1.txt')\n",
    "int_list = list()\n",
    "for line in handle:\n",
    "    line = line.rstrip()\n",
    "    lst = re.findall('[0-9]+', line)\n",
    "    for i in lst:\n",
    "        ints = int(i)\n",
    "        int_list.append(ints)\n",
    "\n",
    "print (sum(int_list))"
   ]
  },
  {
   "cell_type": "code",
   "execution_count": 10,
   "metadata": {},
   "outputs": [
    {
     "name": "stdout",
     "output_type": "stream",
     "text": [
      "HTTP/1.1 200 OK\r\n",
      "Date: Thu, 01 Apr 2021 07:32:02 GMT\r\n",
      "Server: Apache/2.4.18 (Ubuntu)\r\n",
      "Last-Modified: Sat, 13 May 2017 11:22:22 GMT\r\n",
      "ETag: \"1d3-54f6609240717\"\r\n",
      "Accept-Ranges: bytes\r\n",
      "Content-Length: 467\r\n",
      "Cache-Control: max-age=0, no-cache, no-store, must-revalidate\r\n",
      "Pragma: no-cache\r\n",
      "Expires: Wed, 11 Jan 1984 05:00:00 GMT\r\n",
      "Connection: close\r\n",
      "Content-Type: text/plain\r\n",
      "\r\n",
      "Why should you learn to write programs?\n",
      "\n",
      "Writing programs (or programming) is a very creative \n",
      "and rewarding activity.  You can write programs for \n",
      "many reasons, ranging from making your living to solving\n",
      "a difficult data analysis problem to having fun to helping\n",
      "someone else solve a problem.  This book assumes that \n",
      "everyone needs to know how to program, and that once \n",
      "you know how to program you will figure out what you want \n",
      "to do with your newfound skills.  \n"
     ]
    }
   ],
   "source": [
    "''' Understanding the Request / Response Cycle:\n",
    "You are to retrieve the following document using the HTTP protocol in a way that you can examine the HTTP Response headers. '''\n",
    "\n",
    "import socket\n",
    "\n",
    "mysock = socket.socket(socket.AF_INET, socket.SOCK_STREAM)\n",
    "mysock.connect(('data.pr4e.org', 80))\n",
    "cmd = 'GET http://data.pr4e.org/intro-short.txt HTTP/1.0\\r\\n\\r\\n'.encode()\n",
    "mysock.send(cmd)\n",
    "\n",
    "while True:\n",
    "    data = mysock.recv(512)\n",
    "    if len(data) < 1:\n",
    "        break\n",
    "    print(data.decode(),end='')\n",
    "\n",
    "mysock.close()"
   ]
  },
  {
   "cell_type": "code",
   "execution_count": 11,
   "metadata": {},
   "outputs": [
    {
     "name": "stdout",
     "output_type": "stream",
     "text": [
      "Enter - http://py4e-data.dr-chuck.net/comments_1159586.html\n",
      "2199\n"
     ]
    }
   ],
   "source": [
    "''' Scraping HTML Data with BeautifulSoup:\n",
    "In this assignment you will write a Python program similar to http://www.py4e.com/code3/urllink2.py. The program will use \n",
    "urllib to read the HTML from the data files below, and parse the data, extracting numbers and compute the sum of the numbers \n",
    "in the file.'''\n",
    "\n",
    "# http://py4e-data.dr-chuck.net/comments_42.html\n",
    "# http://py4e-data.dr-chuck.net/comments_1159586.html\n",
    "\n",
    "from urllib.request import urlopen\n",
    "from bs4 import BeautifulSoup\n",
    "import ssl\n",
    "\n",
    "# Ignore SSL certificate errors\n",
    "ctx = ssl.create_default_context()\n",
    "ctx.check_hostname = False\n",
    "ctx.verify_mode = ssl.CERT_NONE\n",
    "\n",
    "url = input('Enter - ')\n",
    "html = urlopen(url, context=ctx).read()\n",
    "soup = BeautifulSoup(html, \"html.parser\")\n",
    "\n",
    "int_list = list()\n",
    "tags = soup('span')\n",
    "for tag in tags:\n",
    "    #print('', tag.contents[0])\n",
    "    ints = int(tag.contents[0])\n",
    "    int_list.append(ints)\n",
    "        \n",
    "print (sum(int_list))"
   ]
  },
  {
   "cell_type": "code",
   "execution_count": 12,
   "metadata": {},
   "outputs": [
    {
     "name": "stdout",
     "output_type": "stream",
     "text": [
      "Enter URL: http://py4e-data.dr-chuck.net/known_by_Aryn.html\n",
      "Enter count: 7\n",
      "Enter position: 18\n",
      "Alona\n"
     ]
    }
   ],
   "source": [
    "''' Following Links in HTML Using BeautifulSoup:\n",
    "In this, you will use urllib to read the HTML from the data files below, extract the href= vaues from the anchor tags, \n",
    "scan for a tag that is in a particular position relative to the first name in the list, follow that link and repeat the \n",
    "process a number of times and report the last name you find.'''\n",
    "\n",
    "# http://py4e-data.dr-chuck.net/known_by_Fikret.html\n",
    "# http://py4e-data.dr-chuck.net/known_by_Aryn.html\n",
    "\n",
    "import urllib.request, urllib.parse, urllib.error\n",
    "from bs4 import BeautifulSoup\n",
    "import ssl\n",
    "\n",
    "ctx = ssl.create_default_context()\n",
    "ctx.check_hostname = False\n",
    "ctx.verify_mode = ssl.CERT_NONE\n",
    "\n",
    "url = input('Enter URL: ')\n",
    "count = int(input('Enter count: '))\n",
    "position = int(input('Enter position: '))\n",
    "\n",
    "for i in range(count):\n",
    "    html = urllib.request.urlopen(url, context=ctx).read()\n",
    "    soup = BeautifulSoup(html, 'html.parser')\n",
    "\n",
    "    p = 0\n",
    "    tags = soup('a')\n",
    "    for tag in tags:\n",
    "        p += 1\n",
    "        if p == position:\n",
    "            url_at_pos = tag.get('href',None)\n",
    "            name = tag.contents[0]\n",
    "            url = url_at_pos\n",
    "            break\n",
    "print(name)"
   ]
  },
  {
   "cell_type": "code",
   "execution_count": 13,
   "metadata": {},
   "outputs": [
    {
     "name": "stdout",
     "output_type": "stream",
     "text": [
      "Enter URL: http://py4e-data.dr-chuck.net/comments_1159588.xml\n",
      "2376\n"
     ]
    }
   ],
   "source": [
    "''' Extracting Data from XML:\n",
    "This program will prompt for a URL, read the XML data from that URL using urllib and then parse and extract the comment \n",
    "counts from the XML data, compute the sum of the numbers in the file.'''\n",
    "\n",
    "# http://py4e-data.dr-chuck.net/comments_42.xml\n",
    "# http://py4e-data.dr-chuck.net/comments_1159588.xml\n",
    "\n",
    "import urllib.request, urllib.parse, urllib.error\n",
    "import xml.etree.ElementTree as ET\n",
    "import ssl\n",
    "\n",
    "ctx = ssl.create_default_context()\n",
    "ctx.check_hostname = False\n",
    "ctx.verify_mode = ssl.CERT_NONE\n",
    "\n",
    "url = input('Enter URL: ')\n",
    "data = urllib.request.urlopen(url, context=ctx).read()\n",
    "tree = ET.fromstring(data)\n",
    "counts = tree.findall('.//count')\n",
    "\n",
    "sum = 0\n",
    "for i in counts:\n",
    "    j = int(i.text)\n",
    "    sum += j\n",
    "print(sum)"
   ]
  },
  {
   "cell_type": "code",
   "execution_count": 14,
   "metadata": {},
   "outputs": [
    {
     "name": "stdout",
     "output_type": "stream",
     "text": [
      "Enter URL: http://py4e-data.dr-chuck.net/comments_1159589.json\n",
      "2342\n"
     ]
    }
   ],
   "source": [
    "''' Extracting Data from JSON:\n",
    "This program will prompt for a URL, read the JSON data from that URL using urllib and then parse and extract the comment counts \n",
    "from the JSON data and compute the sum of the numbers in the file.'''\n",
    "\n",
    "# http://py4e-data.dr-chuck.net/comments_42.json\n",
    "# http://py4e-data.dr-chuck.net/comments_1159589.json\n",
    "\n",
    "import urllib.request, urllib.parse, urllib.error\n",
    "import json\n",
    "import ssl\n",
    "\n",
    "ctx = ssl.create_default_context()\n",
    "ctx.check_hostname = False\n",
    "ctx.verify_mode = ssl.CERT_NONE\n",
    "\n",
    "url = input('Enter URL: ')\n",
    "data = urllib.request.urlopen(url, context=ctx).read().decode()\n",
    "info = json.loads(data)\n",
    "\n",
    "sum = 0\n",
    "for item in info[\"comments\"]:\n",
    "    sum += item['count']\n",
    "print(sum)"
   ]
  },
  {
   "cell_type": "code",
   "execution_count": null,
   "metadata": {},
   "outputs": [
    {
     "name": "stdout",
     "output_type": "stream",
     "text": [
      "Enter location: UNISA\n",
      "Retrieving http://py4e-data.dr-chuck.net/json?address=UNISA&key=42\n",
      "Retrieved 2447 characters\n",
      "{\n",
      "    \"results\": [\n",
      "        {\n",
      "            \"address_components\": [\n",
      "                {\n",
      "                    \"long_name\": \"# 10\",\n",
      "                    \"short_name\": \"# 10\",\n",
      "                    \"types\": [\n",
      "                        \"subpremise\"\n",
      "                    ]\n",
      "                },\n",
      "                {\n",
      "                    \"long_name\": \"7400\",\n",
      "                    \"short_name\": \"7400\",\n",
      "                    \"types\": [\n",
      "                        \"street_number\"\n",
      "                    ]\n",
      "                },\n",
      "                {\n",
      "                    \"long_name\": \"East Arapahoe Road\",\n",
      "                    \"short_name\": \"E Arapahoe Rd\",\n",
      "                    \"types\": [\n",
      "                        \"route\"\n",
      "                    ]\n",
      "                },\n",
      "                {\n",
      "                    \"long_name\": \"Centennial\",\n",
      "                    \"short_name\": \"Centennial\",\n",
      "                    \"types\": [\n",
      "                        \"locality\",\n",
      "                        \"political\"\n",
      "                    ]\n",
      "                },\n",
      "                {\n",
      "                    \"long_name\": \"Arapahoe County\",\n",
      "                    \"short_name\": \"Arapahoe County\",\n",
      "                    \"types\": [\n",
      "                        \"administrative_area_level_2\",\n",
      "                        \"political\"\n",
      "                    ]\n",
      "                },\n",
      "                {\n",
      "                    \"long_name\": \"Colorado\",\n",
      "                    \"short_name\": \"CO\",\n",
      "                    \"types\": [\n",
      "                        \"administrative_area_level_1\",\n",
      "                        \"political\"\n",
      "                    ]\n",
      "                },\n",
      "                {\n",
      "                    \"long_name\": \"United States\",\n",
      "                    \"short_name\": \"US\",\n",
      "                    \"types\": [\n",
      "                        \"country\",\n",
      "                        \"political\"\n",
      "                    ]\n",
      "                },\n",
      "                {\n",
      "                    \"long_name\": \"80112\",\n",
      "                    \"short_name\": \"80112\",\n",
      "                    \"types\": [\n",
      "                        \"postal_code\"\n",
      "                    ]\n",
      "                },\n",
      "                {\n",
      "                    \"long_name\": \"1282\",\n",
      "                    \"short_name\": \"1282\",\n",
      "                    \"types\": [\n",
      "                        \"postal_code_suffix\"\n",
      "                    ]\n",
      "                }\n",
      "            ],\n",
      "            \"formatted_address\": \"7400 E Arapahoe Rd # 10, Centennial, CO 80112, USA\",\n",
      "            \"geometry\": {\n",
      "                \"location\": {\n",
      "                    \"lat\": 39.5944197,\n",
      "                    \"lng\": -104.9024568\n",
      "                },\n",
      "                \"location_type\": \"ROOFTOP\",\n",
      "                \"viewport\": {\n",
      "                    \"northeast\": {\n",
      "                        \"lat\": 39.59576868029149,\n",
      "                        \"lng\": -104.9011078197085\n",
      "                    },\n",
      "                    \"southwest\": {\n",
      "                        \"lat\": 39.5930707197085,\n",
      "                        \"lng\": -104.9038057802915\n",
      "                    }\n",
      "                }\n",
      "            },\n",
      "            \"place_id\": \"ChIJOZUawoSGbIcR-hWbgTxSavw\",\n",
      "            \"plus_code\": {\n",
      "                \"compound_code\": \"H3VX+Q2 Centennial, CO, USA\",\n",
      "                \"global_code\": \"85FQH3VX+Q2\"\n",
      "            },\n",
      "            \"types\": [\n",
      "                \"accounting\",\n",
      "                \"establishment\",\n",
      "                \"finance\",\n",
      "                \"point_of_interest\"\n",
      "            ]\n",
      "        }\n",
      "    ],\n",
      "    \"status\": \"OK\"\n",
      "}\n",
      "ChIJOZUawoSGbIcR-hWbgTxSavw\n"
     ]
    }
   ],
   "source": [
    "'''Using the GeoJSON API:\n",
    "This program will prompt for a location, contact a web service and retrieve JSON for the web service and parse that data, \n",
    "and retrieve the first place_id from the JSON. A place ID is a textual identifier that uniquely identifies a place as within \n",
    "Google Maps.'''\n",
    "\n",
    "import urllib.request, urllib.parse, urllib.error\n",
    "import json\n",
    "import ssl\n",
    "\n",
    "api_key = False\n",
    "# If you have a Google Places API key, enter it here\n",
    "# api_key = 'AIzaSy___IDByT70'\n",
    "# https://developers.google.com/maps/documentation/geocoding/intro\n",
    "\n",
    "if api_key is False:\n",
    "    api_key = 42\n",
    "    serviceurl = 'http://py4e-data.dr-chuck.net/json?'\n",
    "else :\n",
    "    serviceurl = 'https://maps.googleapis.com/maps/api/geocode/json?'\n",
    "\n",
    "# Ignore SSL certificate errors\n",
    "ctx = ssl.create_default_context()\n",
    "ctx.check_hostname = False\n",
    "ctx.verify_mode = ssl.CERT_NONE\n",
    "\n",
    "while True:\n",
    "    address = input('Enter location: ')\n",
    "    if len(address) < 1: break\n",
    "\n",
    "    parms = dict()\n",
    "    parms['address'] = address\n",
    "    if api_key is not False: parms['key'] = api_key\n",
    "    url = serviceurl + urllib.parse.urlencode(parms)\n",
    "\n",
    "    print('Retrieving', url)\n",
    "    uh = urllib.request.urlopen(url, context=ctx)\n",
    "    data = uh.read().decode()\n",
    "    print('Retrieved', len(data), 'characters')\n",
    "\n",
    "    try:\n",
    "        js = json.loads(data)\n",
    "    except:\n",
    "        js = None\n",
    "\n",
    "    if not js or 'status' not in js or js['status'] != 'OK':\n",
    "        print('==== Failure To Retrieve ====')\n",
    "        print(data)\n",
    "        continue\n",
    "\n",
    "    print(json.dumps(js, indent=4))\n",
    "    placeid = js['results'][0]['place_id']\n",
    "    print(placeid)"
   ]
  },
  {
   "cell_type": "code",
   "execution_count": null,
   "metadata": {},
   "outputs": [],
   "source": []
  }
 ],
 "metadata": {
  "kernelspec": {
   "display_name": "Python 3",
   "language": "python",
   "name": "python3"
  },
  "language_info": {
   "codemirror_mode": {
    "name": "ipython",
    "version": 3
   },
   "file_extension": ".py",
   "mimetype": "text/x-python",
   "name": "python",
   "nbconvert_exporter": "python",
   "pygments_lexer": "ipython3",
   "version": "3.8.5"
  }
 },
 "nbformat": 4,
 "nbformat_minor": 4
}
